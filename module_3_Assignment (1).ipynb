{
  "nbformat": 4,
  "nbformat_minor": 0,
  "metadata": {
    "colab": {
      "provenance": []
    },
    "kernelspec": {
      "name": "python3",
      "display_name": "Python 3"
    },
    "language_info": {
      "name": "python"
    }
  },
  "cells": [
    {
      "cell_type": "markdown",
      "source": [
        "Python Practical Questions"
      ],
      "metadata": {
        "id": "2v8KAn01cRy8"
      }
    },
    {
      "cell_type": "code",
      "execution_count": null,
      "metadata": {
        "colab": {
          "base_uri": "https://localhost:8080/"
        },
        "id": "nouW_3S2zlju",
        "outputId": "a5dfa52b-e0a7-4655-b457-1b7059e4c415"
      },
      "outputs": [
        {
          "output_type": "stream",
          "name": "stdout",
          "text": [
            "hello world \n"
          ]
        }
      ],
      "source": [
        "# 1. Write a Python program to print \"Hello, World!y\n",
        "print(\"hello world \")"
      ]
    },
    {
      "cell_type": "markdown",
      "source": [
        "\n",
        "\n"
      ],
      "metadata": {
        "id": "g3BuKr4aJrAS"
      }
    },
    {
      "cell_type": "code",
      "source": [
        "# 2.Write a Python program that displays your name and age\n",
        "\n",
        "name = \"himanshu gupta\"\n",
        "age = 20\n",
        "\n",
        "print(f\"My name is {name} and I am {age} years old.\")"
      ],
      "metadata": {
        "colab": {
          "base_uri": "https://localhost:8080/"
        },
        "id": "kj9ZiS2mJ0Lt",
        "outputId": "0ec96548-062e-4e0b-d034-2f72fbc2ed9f"
      },
      "execution_count": 1,
      "outputs": [
        {
          "output_type": "stream",
          "name": "stdout",
          "text": [
            "My name is himanshu gupta and I am 20 years old.\n"
          ]
        }
      ]
    },
    {
      "cell_type": "code",
      "source": [
        "# 3.Write code to print all the pre-defined keywords in Python using the keyword library\n",
        "import keyword\n",
        "\n",
        "print(keyword.kwlist)"
      ],
      "metadata": {
        "colab": {
          "base_uri": "https://localhost:8080/"
        },
        "id": "NVgw58lqOgFV",
        "outputId": "ee4cbe08-f399-4b08-b3ab-dd7924ed505d"
      },
      "execution_count": null,
      "outputs": [
        {
          "output_type": "stream",
          "name": "stdout",
          "text": [
            "['False', 'None', 'True', 'and', 'as', 'assert', 'async', 'await', 'break', 'class', 'continue', 'def', 'del', 'elif', 'else', 'except', 'finally', 'for', 'from', 'global', 'if', 'import', 'in', 'is', 'lambda', 'nonlocal', 'not', 'or', 'pass', 'raise', 'return', 'try', 'while', 'with', 'yield']\n"
          ]
        }
      ]
    },
    {
      "cell_type": "code",
      "source": [
        "# 4.Write a program that checks if a given word is a Python keyword.\n",
        "import keyword\n",
        "\n",
        "def is_keyword(word):\n",
        "  \"\"\"Checks if a given word is a Python keyword.\n",
        "\n",
        "  Args:\n",
        "    word: The word to check.\n",
        "\n",
        "  Returns:\n",
        "    True if the word is a Python keyword, False otherwise.\n",
        "  \"\"\"\n",
        "  return keyword.iskeyword(word)\n",
        "\n",
        "# Get input from the user\n",
        "word = input(\"Enter a word: \")\n",
        "\n",
        "# Check if the word is a keyword\n",
        "if is_keyword(word):\n",
        "  print(f\"{word} is a Python keyword.\")\n",
        "else:\n",
        "  print(f\"{word} is not a Python keyword.\")"
      ],
      "metadata": {
        "colab": {
          "base_uri": "https://localhost:8080/"
        },
        "id": "KWQrS0ojQCsm",
        "outputId": "6b7571db-ad18-4b00-c1a5-ae54be287070"
      },
      "execution_count": null,
      "outputs": [
        {
          "output_type": "stream",
          "name": "stdout",
          "text": [
            "Enter a word: true\n",
            "true is not a Python keyword.\n"
          ]
        }
      ]
    },
    {
      "cell_type": "code",
      "source": [
        "# 5. Create a list and tuple in Python, and demonstrate how attempting to change an element works differently\n",
        "#for each.\n",
        "# Create a list\n",
        "my_list = [10,20,30]\n",
        "\n",
        "# Create a tuple\n",
        "my_tuple = (5,4,2)\n",
        "\n",
        "# Attempt to change an element in the list\n",
        "my_list[0] = 6  # This works fine\n",
        "\n",
        "# Attempt to change an element in the tuple\n",
        "try:\n",
        "    my_tuple[0] = 4  # This will raise a TypeError\n",
        "except TypeError as e:\n",
        "    print(f\"Error: {e}\")  # Output: Error: 'tuple' object does not support item assignment\n",
        "\n",
        "print(\"List after modification:\", my_list)  # Output: List after modification: [4, 2, 3]\n",
        "print(\"Tuple remains unchanged:\", my_tuple)  # Output: Tuple remains unchanged: (1, 2, 3)"
      ],
      "metadata": {
        "colab": {
          "base_uri": "https://localhost:8080/"
        },
        "id": "lxHDzjptQYIc",
        "outputId": "7aa03fc0-59b0-47a6-84a5-eff47c4cbebd"
      },
      "execution_count": 3,
      "outputs": [
        {
          "output_type": "stream",
          "name": "stdout",
          "text": [
            "Error: 'tuple' object does not support item assignment\n",
            "List after modification: [6, 20, 30]\n",
            "Tuple remains unchanged: (5, 4, 2)\n"
          ]
        }
      ]
    },
    {
      "cell_type": "code",
      "source": [
        "# 6.Write a function to demonstrate the behavior of mutable and immutable arguments.\n",
        "def demonstrate_mutable_immutable(mutable_arg, immutable_arg):\n",
        "    # Modify the mutable argument (list in this case)\n",
        "    mutable_arg.append(100)  # Adds 100 to the list\n",
        "\n",
        "    # Try to modify the immutable argument (integer in this case)\n",
        "    immutable_arg += 10  # This creates a new integer value, doesn't modify the original one\n",
        "\n",
        "    print(\"Inside function:\")\n",
        "    print(\"Mutable argument after modification:\", mutable_arg)\n",
        "    print(\"Immutable argument after modification:\", immutable_arg)\n",
        "\n",
        "# Example usage:\n",
        "mutable_example = [1, 2, 3]\n",
        "immutable_example = 5\n",
        "\n",
        "# Call the function\n",
        "demonstrate_mutable_immutable(mutable_example, immutable_example)\n",
        "\n",
        "# Check the values outside the function\n",
        "print(\"\\nOutside function:\")\n",
        "print(\"Mutable argument after function call:\", mutable_example)\n",
        "print(\"Immutable argument after function call:\", immutable_example)\n"
      ],
      "metadata": {
        "colab": {
          "base_uri": "https://localhost:8080/"
        },
        "id": "1knBz8x-RLPl",
        "outputId": "90cbce89-7641-4df4-d4b2-44031a6cc352"
      },
      "execution_count": 4,
      "outputs": [
        {
          "output_type": "stream",
          "name": "stdout",
          "text": [
            "Inside function:\n",
            "Mutable argument after modification: [1, 2, 3, 100]\n",
            "Immutable argument after modification: 15\n",
            "\n",
            "Outside function:\n",
            "Mutable argument after function call: [1, 2, 3, 100]\n",
            "Immutable argument after function call: 5\n"
          ]
        }
      ]
    },
    {
      "cell_type": "code",
      "source": [
        "# 7.Write a program that performs basic arithmetic operations on two user-input numbers.\n",
        "# Get input from the user\n",
        "# Function to perform arithmetic operations\n",
        "def basic_arithmetic_operations():\n",
        "    # Get user input for two numbers\n",
        "    num1 = float(input(\"Enter the first number: \"))\n",
        "    num2 = float(input(\"Enter the second number: \"))\n",
        "\n",
        "    # Perform basic arithmetic operations\n",
        "    addition = num1 + num2\n",
        "    subtraction = num1 - num2\n",
        "    multiplication = num1 * num2\n",
        "    division = None\n",
        "    if num2 != 0:\n",
        "        division = num1 / num2\n",
        "    else:\n",
        "        division = \"undefined (cannot divide by zero)\"\n",
        "\n",
        "    # Display the results\n",
        "    print(f\"\\nResults:\")\n",
        "    print(f\"Addition: {num1} + {num2} = {addition}\")\n",
        "    print(f\"Subtraction: {num1} - {num2} = {subtraction}\")\n",
        "    print(f\"Multiplication: {num1} * {num2} = {multiplication}\")\n",
        "    print(f\"Division: {num1} / {num2} = {division}\")\n",
        "\n",
        "# Call the function\n",
        "basic_arithmetic_operations()\n"
      ],
      "metadata": {
        "colab": {
          "base_uri": "https://localhost:8080/"
        },
        "id": "83qZs81VRo2f",
        "outputId": "749ed74b-fe6b-4a66-eaf0-2fb50057d4dd"
      },
      "execution_count": 5,
      "outputs": [
        {
          "output_type": "stream",
          "name": "stdout",
          "text": [
            "Enter the first number: 5\n",
            "Enter the second number: 10\n",
            "\n",
            "Results:\n",
            "Addition: 5.0 + 10.0 = 15.0\n",
            "Subtraction: 5.0 - 10.0 = -5.0\n",
            "Multiplication: 5.0 * 10.0 = 50.0\n",
            "Division: 5.0 / 10.0 = 0.5\n"
          ]
        }
      ]
    },
    {
      "cell_type": "code",
      "source": [
        "# 8. Write a program to demonstrate the use of logical operators.\n",
        "# Function to demonstrate logical operators\n",
        "def logical_operators_demo():\n",
        "    # Define some sample variables\n",
        "    a = True\n",
        "    b = False\n",
        "    x = 5\n",
        "    y = 10\n",
        "\n",
        "    # Using the 'and' logical operator\n",
        "    if a and b:\n",
        "        print(\"Both a and b are True.\")\n",
        "    else:\n",
        "        print(\"Either a or b is False.\")\n",
        "\n",
        "    # Using the 'or' logical operator\n",
        "    if a or b:\n",
        "        print(\"At least one of a or b is True.\")\n",
        "    else:\n",
        "        print(\"Both a and b are False.\")\n",
        "\n",
        "    # Using the 'not' logical operator\n",
        "    if not a:\n",
        "        print(\"a is False.\")\n",
        "    else:\n",
        "        print(\"a is True.\")\n",
        "\n",
        "    # Combined logical operators\n",
        "    if (x > 0 and x < 10) or y == 10:\n",
        "        print(\"Either x is between 0 and 10, or y is 10.\")\n",
        "    else:\n",
        "        print(\"Neither condition is satisfied.\")\n",
        "\n",
        "    # More complex condition\n",
        "    if not (x > 0 and x < 5):\n",
        "        print(\"x is not between 0 and 5.\")\n",
        "\n",
        "# Call the function to demonstrate logical operators\n",
        "logical_operators_demo()\n"
      ],
      "metadata": {
        "colab": {
          "base_uri": "https://localhost:8080/"
        },
        "id": "IkCHEWd_SEF8",
        "outputId": "beb5e7cc-c268-48f4-f11d-3458f09edcd7"
      },
      "execution_count": 7,
      "outputs": [
        {
          "output_type": "stream",
          "name": "stdout",
          "text": [
            "Either a or b is False.\n",
            "At least one of a or b is True.\n",
            "a is True.\n",
            "Either x is between 0 and 10, or y is 10.\n",
            "x is not between 0 and 5.\n"
          ]
        }
      ]
    },
    {
      "cell_type": "code",
      "source": [
        "# 9. Write a Python program to convert user input from string to integer, float, and boolean types.\n",
        "def convert_user_input():\n",
        "    # Get user input as a string\n",
        "    user_input = input(\"Enter a value: \")\n",
        "\n",
        "    # Convert to integer\n",
        "    try:\n",
        "        int_value = int(user_input)\n",
        "        print(f\"Converted to integer: {int_value}\")\n",
        "    except ValueError:\n",
        "        print(\"Cannot convert to integer.\")\n",
        "\n",
        "    # Convert to float\n",
        "    try:\n",
        "        float_value = float(user_input)\n",
        "        print(f\"Converted to float: {float_value}\")\n",
        "    except ValueError:\n",
        "        print(\"Cannot convert to float.\")\n",
        "\n",
        "    # Convert to boolean\n",
        "    # For boolean conversion, 'True' (case-insensitive) becomes True, 'False' becomes False.\n",
        "    if user_input.lower() == 'true':\n",
        "        bool_value = True\n",
        "    elif user_input.lower() == 'false':\n",
        "        bool_value = False\n",
        "    else:\n",
        "        bool_value = bool(user_input)  # Any non-empty string is considered True\n",
        "\n",
        "    print(f\"Converted to boolean: {bool_value}\")\n",
        "\n",
        "# Call the function to demonstrate the conversions\n",
        "convert_user_input()\n",
        "\n"
      ],
      "metadata": {
        "colab": {
          "base_uri": "https://localhost:8080/"
        },
        "id": "eVMwVRC5S2zk",
        "outputId": "936a445f-8814-48f1-a53f-a6297615248e"
      },
      "execution_count": 8,
      "outputs": [
        {
          "output_type": "stream",
          "name": "stdout",
          "text": [
            "Enter a value: 10\n",
            "Converted to integer: 10\n",
            "Converted to float: 10.0\n",
            "Converted to boolean: True\n"
          ]
        }
      ]
    },
    {
      "cell_type": "code",
      "source": [
        "# 10.Write code to demonstrate type casting with list elements.\n",
        "def demonstrate_type_casting():\n",
        "    # Original list with different types of elements (string, float, integer)\n",
        "    original_list = ['10', '20.5', 'True', 'False', 5, 7.5]\n",
        "\n",
        "    # Convert each element to different types and store in new lists\n",
        "    # Convert strings to integers\n",
        "    int_list = [int(item) if item.replace('.', '', 1).isdigit() else 0 for item in original_list]\n",
        "\n",
        "    # Convert strings to floats\n",
        "    float_list = [float(item) if item.replace('.', '', 1).isdigit() else 0.0 for item in original_list]\n",
        "\n",
        "    # Convert strings 'True'/'False' to boolean values\n",
        "    bool_list = [True if item.lower() == 'true' else False if item.lower() == 'false' else bool(item) for item in original_list]\n",
        "\n",
        "    # Print the results\n",
        "    print(\"Original list:\", original_list)\n",
        "    print(\"List with integers:\", int_list)\n",
        "    print(\"List with floats:\", float_list)\n",
        "    print(\"List with booleans:\", bool_list)\n",
        "\n",
        "# Call the function to demonstrate type castin"
      ],
      "metadata": {
        "id": "V9XLks-sTWlr"
      },
      "execution_count": 16,
      "outputs": []
    },
    {
      "cell_type": "code",
      "source": [
        "# 11. Write a program that checks if a number is positive, negative, or zero\n",
        "# Get input from the user\n",
        "number = float(input(\"Enter a number: \"))\n",
        "\n",
        "# Check the number\n",
        "if number > 0:\n",
        "    print(\"The number is positive.\")\n",
        "elif number < 0:\n",
        "    print(\"The number is negative.\")\n",
        "else:\n",
        "    print(\"The number is zero.\")"
      ],
      "metadata": {
        "colab": {
          "base_uri": "https://localhost:8080/"
        },
        "id": "gg8JyuxHT06a",
        "outputId": "f8a5bd60-cbd9-4654-e7ea-d01280731ecb"
      },
      "execution_count": null,
      "outputs": [
        {
          "output_type": "stream",
          "name": "stdout",
          "text": [
            "Enter a number: 3\n",
            "The number is positive.\n"
          ]
        }
      ]
    },
    {
      "cell_type": "code",
      "source": [
        "# 12. Write a for loop to print numbers from 1 to 10.\n",
        "for i in range(1, 11):\n",
        "    print(i)"
      ],
      "metadata": {
        "colab": {
          "base_uri": "https://localhost:8080/"
        },
        "id": "vMS3RhNRUM5R",
        "outputId": "c0dd4e7b-7121-494a-cf49-bee63345342e"
      },
      "execution_count": null,
      "outputs": [
        {
          "output_type": "stream",
          "name": "stdout",
          "text": [
            "1\n",
            "2\n",
            "3\n",
            "4\n",
            "5\n",
            "6\n",
            "7\n",
            "8\n",
            "9\n",
            "10\n"
          ]
        }
      ]
    },
    {
      "cell_type": "code",
      "source": [
        "# 13.  Write a Python program to find the sum of all even numbers between 1 and 50.\n",
        "# Initialize the sum\n",
        "total_sum = 0\n",
        "\n",
        "# Iterate through numbers from 1 to 50\n",
        "for number in range(2, 51, 2):\n",
        "    total_sum += number\n",
        "\n",
        "# Print the sum\n",
        "print(\"The sum of all even numbers between 1 and 50 is:\", total_sum)"
      ],
      "metadata": {
        "colab": {
          "base_uri": "https://localhost:8080/"
        },
        "id": "rGZxBCUKUeza",
        "outputId": "ba5f1547-0c4b-4939-b13d-02e64477b2aa"
      },
      "execution_count": null,
      "outputs": [
        {
          "output_type": "stream",
          "name": "stdout",
          "text": [
            "The sum of all even numbers between 1 and 50 is: 650\n"
          ]
        }
      ]
    },
    {
      "cell_type": "code",
      "source": [
        "# 14. . Write a program to reverse a string using a while loop\n",
        "def reverse_string(s):\n",
        "  \"\"\"Reverses a string using a while loop.\n",
        "\n",
        "  Args:\n",
        "    s: The string to reverse.\n",
        "\n",
        "  Returns:\n",
        "    The reversed string.\n",
        "  \"\"\"\n",
        "  reversed_string = \"\"\n",
        "  index = len(s) - 1\n",
        "\n",
        "  while index >= 0:\n",
        "    reversed_string += s[index]\n",
        "    index -= 1\n",
        "\n",
        "  return reversed_string\n",
        "\n",
        "# Get input from the user\n",
        "string = input(\"Enter a string: \")\n",
        "\n",
        "# Reverse the string\n",
        "reversed_string = reverse_string(string)\n",
        "\n",
        "# Print the reversed string\n",
        "print(\"Reversed string:\", reversed_string)"
      ],
      "metadata": {
        "colab": {
          "base_uri": "https://localhost:8080/"
        },
        "id": "6SrzXYLCU1Eh",
        "outputId": "c2154ac9-af3a-47a2-ef33-90724d253444"
      },
      "execution_count": 13,
      "outputs": [
        {
          "output_type": "stream",
          "name": "stdout",
          "text": [
            "Enter a string: himanshu\n",
            "Reversed string: uhsnamih\n"
          ]
        }
      ]
    },
    {
      "cell_type": "code",
      "source": [
        "# 15.Write a Python program to calculate the factorial of a number provided by the user using a while loop\n",
        "def calculate_factorial():\n",
        "    # Get user input\n",
        "    number = int(input(\"Enter a number to calculate its factorial: \"))\n",
        "\n",
        "    # Check if the number is negative\n",
        "    if number < 0:\n",
        "        print(\"Factorial is not defined for negative numbers.\")\n",
        "        return\n",
        "\n",
        "    # Initialize the factorial result to 1\n",
        "    factorial = 1\n",
        "    counter = 1\n",
        "\n",
        "    # Use a while loop to calculate the factorial\n",
        "    while counter <= number:\n",
        "        factorial *= counter  # Multiply the current result by counter\n",
        "        counter += 1  # Increment the counter\n",
        "\n",
        "    # Print the factorial\n",
        "    print(f\"The factorial of {number} is {factorial}.\")\n",
        "\n",
        "# Call the function to calculate factorial\n",
        "calculate_factorial()\n"
      ],
      "metadata": {
        "colab": {
          "base_uri": "https://localhost:8080/"
        },
        "id": "WjN_cFv3VgcM",
        "outputId": "f14d6d9b-19f0-4d3d-d0e2-1f8aad5a28e5"
      },
      "execution_count": 15,
      "outputs": [
        {
          "output_type": "stream",
          "name": "stdout",
          "text": [
            "Enter a number to calculate its factorial: 8\n",
            "The factorial of 8 is 40320.\n"
          ]
        }
      ]
    }
  ]
}